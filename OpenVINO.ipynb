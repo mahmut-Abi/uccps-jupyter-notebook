{
 "cells": [
  {
   "cell_type": "markdown",
   "id": "17ec0bbf-adb4-440d-b7ca-bb71f4e0c285",
   "metadata": {},
   "source": [
    "### 创建一个简单的计算图，包含两个输入向量和一个 Add 操作，并执行该计算图"
   ]
  },
  {
   "cell_type": "code",
   "execution_count": 5,
   "id": "353f062b-78ba-4eb7-b23a-03c224fdedd1",
   "metadata": {},
   "outputs": [],
   "source": [
    "#!/usr/bin/env python3\n",
    "# -*- coding: utf-8 -*-\n",
    "# Copyright (C) 2018-2025 Intel Corporation\n",
    "# SPDX-License-Identifier: Apache-2.0\n",
    "import logging as log\n",
    "import sys\n",
    "\n",
    "import openvino as ov\n",
    "\n",
    "\n",
    "def param_to_string(parameters) -> str:\n",
    "    \"\"\"Convert a list / tuple of parameters returned from OV to a string.\"\"\"\n",
    "    if isinstance(parameters, (list, tuple)):\n",
    "        return ', '.join([str(x) for x in parameters])\n",
    "    else:\n",
    "        return str(parameters)\n",
    "\n",
    "\n",
    "def main():\n",
    "    log.basicConfig(format='[ %(levelname)s ] %(message)s', level=log.INFO, stream=sys.stdout)\n",
    "\n",
    "    # --------------------------- Step 1. Initialize OpenVINO Runtime Core --------------------------------------------\n",
    "    core = ov.Core()\n",
    "\n",
    "    # --------------------------- Step 2. Get metrics of available devices --------------------------------------------\n",
    "    log.info('Available devices:')\n",
    "    for device in core.available_devices:\n",
    "        log.info(f'{device} :')\n",
    "        log.info('\\tSUPPORTED_PROPERTIES:')\n",
    "        for property_key in core.get_property(device, 'SUPPORTED_PROPERTIES'):\n",
    "            if property_key not in ('SUPPORTED_PROPERTIES'):\n",
    "                try:\n",
    "                    property_val = core.get_property(device, property_key)\n",
    "                except TypeError:\n",
    "                    property_val = 'UNSUPPORTED TYPE'\n",
    "                log.info(f'\\t\\t{property_key}: {param_to_string(property_val)}')\n",
    "        log.info('')\n",
    "\n",
    "    # -----------------------------------------------------------------------------------------------------------------\n",
    "    return 0\n",
    "\n",
    "\n",
    "if __name__ == '__main__':\n",
    "    main()"
   ]
  },
  {
   "cell_type": "code",
   "execution_count": null,
   "id": "13c7ab68-af32-42fa-95e4-9bfcd3fcb95b",
   "metadata": {},
   "outputs": [],
   "source": []
  }
 ],
 "metadata": {
  "kernelspec": {
   "display_name": "Python 3 (ipykernel)",
   "language": "python",
   "name": "python3"
  },
  "language_info": {
   "codemirror_mode": {
    "name": "ipython",
    "version": 3
   },
   "file_extension": ".py",
   "mimetype": "text/x-python",
   "name": "python",
   "nbconvert_exporter": "python",
   "pygments_lexer": "ipython3",
   "version": "3.9.16"
  }
 },
 "nbformat": 4,
 "nbformat_minor": 5
}
